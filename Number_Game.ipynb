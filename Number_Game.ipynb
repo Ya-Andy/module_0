{
 "cells": [
  {
   "cell_type": "code",
   "execution_count": 1,
   "metadata": {},
   "outputs": [
    {
     "name": "stdout",
     "output_type": "stream",
     "text": [
      "Загадано число от 1 до 100\n",
      "50\n",
      "Угадываемое число меньше 50 \n",
      "25\n",
      "Угадываемое число меньше 25 \n",
      "12\n",
      "Угадываемое число меньше 12 \n",
      "6\n",
      "Угадываемое число меньше 6 \n",
      "3\n",
      "Угадываемое число меньше 3 \n",
      "1\n",
      "Угадываемое число больше 1 \n",
      "2\n",
      "Вы угадали число 2 за 7 попыток.\n"
     ]
    }
   ],
   "source": [
    "import numpy as np\n",
    "import random\n",
    "\n",
    "count = 0                            # счетчик попыток\n",
    "number = np.random.randint(1,101)    # загадали число\n",
    "print (\"Загадано число от 1 до 100\")\n",
    "\n",
    "while True:                          # бесконечный цикл\n",
    "    predict = int(input())           # предполагаемое число\n",
    "    count += 1                       # плюсуем попытку\n",
    "    if number == predict: break      # выход из цикла, если угадали\n",
    "    elif number > predict: print (f\"Угадываемое число больше {predict} \")\n",
    "    elif number < predict: print (f\"Угадываемое число меньше {predict} \")\n",
    "        \n",
    "print (\"Вы угадали число {} за {} попыток.\".format(number, count))"
   ]
  },
  {
   "cell_type": "code",
   "execution_count": 19,
   "metadata": {},
   "outputs": [
    {
     "name": "stdout",
     "output_type": "stream",
     "text": [
      "Загадано число от 1 до 100\n",
      "Вы угадали число 17 за 17 попыток.\n"
     ]
    }
   ],
   "source": [
    "number = np.random.randint(1,101)        # загадали число\n",
    "print (\"Загадано число от 1 до 100\")\n",
    "for count in range(1,101):               # более компактный вариант счетчика\n",
    "    if number == count: break            # выход из цикла, если угадали      \n",
    "print (f\"Вы угадали число {number} за {count} попыток.\")"
   ]
  },
  {
   "cell_type": "code",
   "execution_count": 2,
   "metadata": {},
   "outputs": [],
   "source": [
    "def game_core_v1(number):\n",
    "    '''Просто угадываем на random, никак не используя информацию о больше или меньше.\n",
    "       Функция принимает загаданное число и возвращает число попыток'''\n",
    "    count = 0\n",
    "    while True:\n",
    "        count+=1\n",
    "        predict = np.random.randint(1,101)   # предполагаемое число\n",
    "        if number == predict: \n",
    "            return(count)                   # выход из цикла, если угадали\n",
    "\n",
    "def score_game(game_core):\n",
    "    '''Запускаем игру 1000 раз, чтобы узнать, как быстро игра угадывает число'''\n",
    "    count_ls = []\n",
    "    np.random.seed(1)       # фиксируем RANDOM SEED, чтобы ваш эксперимент был воспроизводим!\n",
    "    random_array = np.random.randint(1,101, size=(1000))\n",
    "    for number in random_array:\n",
    "        count_ls.append(game_core(number))\n",
    "    score = int(np.mean(count_ls))\n",
    "    print(\"Ваш алгоритм угадывает число в среднем за {} попыток\".format(score))\n",
    "    return(score)\n"
   ]
  },
  {
   "cell_type": "code",
   "execution_count": 3,
   "metadata": {},
   "outputs": [],
   "source": [
    "def game_core_v2(number):\n",
    "    '''Сначала устанавливаем любое random число, а потом уменьшаем \n",
    "       или увеличиваем его в зависимости от того, больше оно или меньше нужного.\n",
    "       Функция принимает загаданное число и возвращает число попыток'''\n",
    "    count = 1\n",
    "    predict = np.random.randint(1,101)\n",
    "    while number != predict:\n",
    "        count+=1\n",
    "        if number > predict: \n",
    "            predict += 1\n",
    "        elif number < predict: \n",
    "            predict -= 1\n",
    "    return(count)            # выход из цикла, если угадали"
   ]
  },
  {
   "cell_type": "code",
   "execution_count": 4,
   "metadata": {},
   "outputs": [],
   "source": [
    "def game_core_v3(number):\n",
    "    '''Используется алгоритм бинарного поиска.\n",
    "       Для этого выбирается середина выборки от 1 до 100, в которой\n",
    "       находится загаданное число, и сравнивается с ним.\n",
    "       В зависимости от того, больше загаданное число или меньше,\n",
    "       переходим в верхнюю половину выборки или в её нижнюю половину.\n",
    "       Цикл повторяется до тех пор, пока не определится загаданное число.\n",
    "       Функция принимает загаданное число и возвращает число попыток.\n",
    "    '''\n",
    "    \n",
    "    count = 0\n",
    "    A = [i for i in range(1, 101)]\n",
    "    predict = -1\n",
    "    top = len(A)\n",
    "    while top - predict > 1:\n",
    "        count += 1\n",
    "        middle = (predict + top) //2\n",
    "        if A[middle] < number:\n",
    "            predict = middle\n",
    "        else:\n",
    "            top = middle\n",
    "    return(count)\n"
   ]
  },
  {
   "cell_type": "code",
   "execution_count": 6,
   "metadata": {},
   "outputs": [
    {
     "name": "stdout",
     "output_type": "stream",
     "text": [
      "Ваш алгоритм угадывает число в среднем за 6 попыток\n"
     ]
    },
    {
     "data": {
      "text/plain": [
       "6"
      ]
     },
     "execution_count": 6,
     "metadata": {},
     "output_type": "execute_result"
    }
   ],
   "source": [
    "score_game(game_core_v3)"
   ]
  }
 ],
 "metadata": {
  "kernelspec": {
   "display_name": "Python 3",
   "language": "python",
   "name": "python3"
  },
  "language_info": {
   "codemirror_mode": {
    "name": "ipython",
    "version": 3
   },
   "file_extension": ".py",
   "mimetype": "text/x-python",
   "name": "python",
   "nbconvert_exporter": "python",
   "pygments_lexer": "ipython3",
   "version": "3.7.4"
  }
 },
 "nbformat": 4,
 "nbformat_minor": 2
}
